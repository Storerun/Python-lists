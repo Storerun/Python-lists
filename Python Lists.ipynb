{
 "cells": [
  {
   "cell_type": "code",
   "execution_count": 2,
   "id": "e490bca6",
   "metadata": {
    "scrolled": true
   },
   "outputs": [
    {
     "name": "stdout",
     "output_type": "stream",
     "text": [
      "list_a =  ['school', 'clinic', ' church', 'cinema', 'stadium']\n",
      "list_b =  [2, 4, 6, 8, 10, 12, 14, 16, 18, 20]\n",
      "list_c =  [0.25, 80, 'people']\n"
     ]
    }
   ],
   "source": [
    "#python list examples.\n",
    "\n",
    "list_a= ['school','clinic',' church', 'cinema','stadium']\n",
    "list_b= [2,4,6,8,10,12,14,16,18,20]\n",
    "list_c= [0.25,80,'people']\n",
    "print('list_a = ',list_a);print('list_b = ', list_b); print('list_c = ', list_c)\n",
    "\n"
   ]
  },
  {
   "cell_type": "code",
   "execution_count": 3,
   "id": "07038016",
   "metadata": {},
   "outputs": [
    {
     "name": "stdout",
     "output_type": "stream",
     "text": [
      "cinema\n",
      "12\n",
      "0.25\n",
      "[6, 8, 10, 12]\n"
     ]
    }
   ],
   "source": [
    "#accessing values in a list.\n",
    "print(list_a[3])   #this accesses the fourth value in the list\n",
    "print(list_b[5])   #this accesses the sixth value in the list\n",
    "print(list_c[0])   # this accesses the first value in the list\n",
    "print(list_b[2:6])  #this accesses the third value to the sixth value in the list. \n",
    "                    #(note the 6th value is not the same as the 6th index)"
   ]
  },
  {
   "cell_type": "code",
   "execution_count": 4,
   "id": "984aefdf",
   "metadata": {},
   "outputs": [
    {
     "name": "stdout",
     "output_type": "stream",
     "text": [
      "['school', 'hospital', ' church', 'cinema', 'stadium']\n",
      "[2, 4, 7, 9, 11, 12, 14, 16, 18, 20]\n"
     ]
    }
   ],
   "source": [
    "#changing elements in list.\n",
    "list_a[1]= 'hospital'\n",
    "print(list_a)\n",
    "list_b[2:5]=[7,9,11]\n",
    "print(list_b)\n"
   ]
  },
  {
   "cell_type": "code",
   "execution_count": 5,
   "id": "ef504c67",
   "metadata": {},
   "outputs": [
    {
     "data": {
      "text/plain": [
       "[2, 4, 12, 14, 16, 18, 20]"
      ]
     },
     "execution_count": 5,
     "metadata": {},
     "output_type": "execute_result"
    }
   ],
   "source": [
    "#deleting elements in a list using the del statement.\n",
    "del list_b[2:5]\n",
    "list_b"
   ]
  },
  {
   "cell_type": "code",
   "execution_count": 6,
   "id": "0124cf1e",
   "metadata": {},
   "outputs": [
    {
     "name": "stdout",
     "output_type": "stream",
     "text": [
      "['school', 'hospital', ' church', 'cinema', 'stadium', 2, 4, 12, 14, 16, 18, 20]\n",
      "[0.25, 80, 'people', 0.25, 80, 'people', 0.25, 80, 'people', 0.25, 80, 'people']\n"
     ]
    },
    {
     "data": {
      "text/plain": [
       "False"
      ]
     },
     "execution_count": 6,
     "metadata": {},
     "output_type": "execute_result"
    }
   ],
   "source": [
    "#basic list operations.\n",
    "# we look at 3 basic, +,* and in\n",
    "list_1=list_a + list_b   # concatenating the elements in list_a and List_b, assigned to list_1\n",
    "print(list_1)\n",
    "\n",
    "list_2= list_c*4       #repitition of the elements in list_c 4 times, assigned to list_2\n",
    "print(list_2)\n",
    "\n",
    "'church' in list_a    #this produces a boolean value: true if the string 'church' is a member of the list_a, false if otherwise.\n"
   ]
  },
  {
   "cell_type": "code",
   "execution_count": 7,
   "id": "89c7d5cc",
   "metadata": {},
   "outputs": [
    {
     "name": "stdout",
     "output_type": "stream",
     "text": [
      "7\n",
      "stadium\n",
      "2\n",
      "[0, 1, 2, 3, 4]\n"
     ]
    }
   ],
   "source": [
    "#list functions\n",
    "print(len(list_b)) #this returns the number of elements in the list\n",
    "\n",
    "print(max(list_a)) #this returns the highest or maximum value in the list\n",
    "\n",
    "print(min(list_b)) #this retirns the lowerest or minimum value in the list\n",
    "\n",
    "print(list(range(5))) # tthis converts any sequence into a list. hence the range of 5\n"
   ]
  },
  {
   "cell_type": "code",
   "execution_count": 8,
   "id": "3867a195",
   "metadata": {},
   "outputs": [
    {
     "name": "stdout",
     "output_type": "stream",
     "text": [
      "['school', 'hospital', ' church', 'cinema', 'stadium', 'factory']\n"
     ]
    }
   ],
   "source": [
    "#list methods\n",
    "# List.append() method.\n",
    "list_a.append('factory')\n",
    "print(list_a)"
   ]
  },
  {
   "cell_type": "code",
   "execution_count": 9,
   "id": "720cdf69",
   "metadata": {},
   "outputs": [
    {
     "data": {
      "text/plain": [
       "4"
      ]
     },
     "execution_count": 9,
     "metadata": {},
     "output_type": "execute_result"
    }
   ],
   "source": [
    "#list.count() method\n",
    "list_2.count(0.25)\n"
   ]
  },
  {
   "cell_type": "code",
   "execution_count": 10,
   "id": "26cf754f",
   "metadata": {},
   "outputs": [
    {
     "name": "stdout",
     "output_type": "stream",
     "text": [
      "[' church', 'cinema', 'factory', 'hospital', 'school', 'stadium']\n"
     ]
    }
   ],
   "source": [
    "#list.sort() method\n",
    "list_a.sort()\n",
    "print(list_a)"
   ]
  },
  {
   "cell_type": "code",
   "execution_count": 11,
   "id": "091fa4c8",
   "metadata": {},
   "outputs": [
    {
     "data": {
      "text/plain": [
       "6"
      ]
     },
     "execution_count": 11,
     "metadata": {},
     "output_type": "execute_result"
    }
   ],
   "source": [
    "#list.index()\n",
    "countries=['Germany','Japan','Russia','Brazil','Congo', 'Italy', 'Ghana','Spain','Iran' ]\n",
    "countries.index('Ghana')"
   ]
  },
  {
   "cell_type": "code",
   "execution_count": 12,
   "id": "c17c37b7",
   "metadata": {},
   "outputs": [
    {
     "name": "stdout",
     "output_type": "stream",
     "text": [
      "['Germany', 'Japan', 'Russia', 'Brazil', 'Congo', 'Italy', 'Ghana', 'China', 'Spain', 'Iran']\n"
     ]
    }
   ],
   "source": [
    "#list.insert() method\n",
    "countries.insert(7,'China')   #using the same countries list.\n",
    "print(countries)"
   ]
  },
  {
   "cell_type": "code",
   "execution_count": 13,
   "id": "113e4ae3",
   "metadata": {},
   "outputs": [
    {
     "name": "stdout",
     "output_type": "stream",
     "text": [
      "['Germany', 'Japan', 'Russia', 'Brazil', 'Congo', 'Italy', 'Ghana', 'China', 'Spain']\n",
      "['Germany', 'Japan', 'Russia', 'Brazil', 'Italy', 'Ghana', 'China', 'Spain']\n"
     ]
    }
   ],
   "source": [
    "#list.pop() method\n",
    "countries.pop()\n",
    "print(countries)\n",
    "\n",
    "countries.pop(4)\n",
    "print(countries)"
   ]
  },
  {
   "cell_type": "code",
   "execution_count": 14,
   "id": "24340474",
   "metadata": {},
   "outputs": [
    {
     "name": "stdout",
     "output_type": "stream",
     "text": [
      "['Germany', 'Japan', 'Russia', 'Brazil', 'Italy', 'China', 'Spain']\n"
     ]
    }
   ],
   "source": [
    "#list.remove() method\n",
    "countries.remove('Ghana')\n",
    "print(countries)\n"
   ]
  },
  {
   "cell_type": "code",
   "execution_count": 15,
   "id": "6b426e23",
   "metadata": {},
   "outputs": [
    {
     "name": "stdout",
     "output_type": "stream",
     "text": [
      "Germany\n",
      "Japan\n",
      "Russia\n",
      "Brazil\n",
      "Italy\n",
      "China\n",
      "Spain\n"
     ]
    }
   ],
   "source": [
    "#iteration\n",
    "for x in countries:\n",
    "    print(x)"
   ]
  },
  {
   "cell_type": "code",
   "execution_count": null,
   "id": "6374b599",
   "metadata": {},
   "outputs": [],
   "source": []
  }
 ],
 "metadata": {
  "kernelspec": {
   "display_name": "Python 3",
   "language": "python",
   "name": "python3"
  },
  "language_info": {
   "codemirror_mode": {
    "name": "ipython",
    "version": 3
   },
   "file_extension": ".py",
   "mimetype": "text/x-python",
   "name": "python",
   "nbconvert_exporter": "python",
   "pygments_lexer": "ipython3",
   "version": "3.8.8"
  }
 },
 "nbformat": 4,
 "nbformat_minor": 5
}
